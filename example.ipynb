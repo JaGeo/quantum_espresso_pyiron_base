{
 "cells": [
  {
   "cell_type": "code",
   "execution_count": 1,
   "metadata": {},
   "outputs": [],
   "source": [
    "import os\n",
    "import subprocess"
   ]
  },
  {
   "cell_type": "code",
   "execution_count": 2,
   "metadata": {},
   "outputs": [],
   "source": [
    "import matplotlib.pyplot as plt\n",
    "import numpy as np"
   ]
  },
  {
   "cell_type": "code",
   "execution_count": 3,
   "metadata": {},
   "outputs": [],
   "source": [
    "from ase.build import bulk\n",
    "from ase.calculators.espresso import Espresso\n",
    "from ase.io import write\n",
    "from pwtools import io"
   ]
  },
  {
   "cell_type": "markdown",
   "metadata": {},
   "source": [
    "# Functions"
   ]
  },
  {
   "cell_type": "code",
   "execution_count": 4,
   "metadata": {},
   "outputs": [],
   "source": [
    "def write_input_calc_minimize(input_dict, working_directory=\".\"):\n",
    "    filename = os.path.join(working_directory, 'relax.pwi')\n",
    "    os.makedirs(working_directory, exist_ok=True)\n",
    "    input_data_relax = {\n",
    "        'calculation': 'vc-relax',\n",
    "        'cell_dofree': 'ibrav',\n",
    "    }\n",
    "    write(\n",
    "        filename=filename, \n",
    "        images=input_dict[\"structure\"], \n",
    "        Crystal=True, \n",
    "        kpts=input_dict[\"kpts\"], \n",
    "        input_data=input_data_relax, \n",
    "        pseudopotentials=input_dict[\"pseudopotentials\"],\n",
    "        tstress=True, \n",
    "        tprnfor=True\n",
    "    )"
   ]
  },
  {
   "cell_type": "code",
   "execution_count": 5,
   "metadata": {},
   "outputs": [],
   "source": [
    "def write_input_calc_static(input_dict, working_directory=\".\"):\n",
    "    filename = os.path.join(working_directory, 'static.pwi')\n",
    "    os.makedirs(working_directory, exist_ok=True)\n",
    "    input_data_static = {\n",
    "        'calculation': 'scf', # A string describing the task to be performed.\n",
    "    }\n",
    "    write(\n",
    "        filename=filename, \n",
    "        images=input_dict[\"structure\"], \n",
    "        Crystal=True, \n",
    "        kpts=input_dict[\"kpts\"], \n",
    "        input_data=input_data_static, \n",
    "        pseudopotentials=input_dict[\"pseudopotentials\"],\n",
    "        tstress=True, \n",
    "        tprnfor=True\n",
    "    )"
   ]
  },
  {
   "cell_type": "code",
   "execution_count": 6,
   "metadata": {},
   "outputs": [],
   "source": [
    "def collect_output_calc_minimize(working_directory=\".\"):\n",
    "    filename = os.path.join(working_directory, 'relax.pwo')\n",
    "    # return {\"structure\": io.read_pw_md(filename)[-1].get_ase_atoms()}\n",
    "    return {\"structure\": io.read_pw_md(filename)[-1].get_ase_atoms()}"
   ]
  },
  {
   "cell_type": "code",
   "execution_count": 7,
   "metadata": {},
   "outputs": [],
   "source": [
    "def collect_output_calc_static(working_directory=\".\"):\n",
    "    filename = os.path.join(working_directory, 'static.pwo')\n",
    "    out = io.read_pw_scf(filename)\n",
    "    return {\n",
    "        \"energy\": out.etot,\n",
    "        \"volume\": out.volume,\n",
    "    }"
   ]
  },
  {
   "cell_type": "markdown",
   "metadata": {},
   "source": [
    "# pyiron_base"
   ]
  },
  {
   "cell_type": "code",
   "execution_count": 8,
   "metadata": {},
   "outputs": [],
   "source": [
    "from pyiron_base.jobs.job.template import TemplateJob\n",
    "from pyiron_base.jobs.job.extension.executable import Executable"
   ]
  },
  {
   "cell_type": "code",
   "execution_count": 9,
   "metadata": {},
   "outputs": [],
   "source": [
    "class QEMinimize(TemplateJob):\n",
    "    def __init__(self, project, job_name):\n",
    "        super().__init__(project, job_name)\n",
    "        self.input.update({  # Default Parameter \n",
    "            \"structure\": None, \n",
    "            \"pseudopotentials\": pseudopotentials, \n",
    "            \"kpts\": (3, 3, 3),\n",
    "        })\n",
    "        self.executable = \"mpirun -np 1 pw.x -in relax.pwi > relax.pwo\"\n",
    "\n",
    "    def write_input(self):\n",
    "        write_input_calc_minimize(input_dict=self.input.to_builtin(), working_directory=self.working_directory)\n",
    "\n",
    "    def collect_output(self):\n",
    "        self.output.update(collect_output_calc_minimize(working_directory=self.working_directory))\n",
    "        self.to_hdf()"
   ]
  },
  {
   "cell_type": "code",
   "execution_count": 24,
   "metadata": {},
   "outputs": [],
   "source": [
    "class QEStatic(TemplateJob):\n",
    "    def __init__(self, project, job_name):\n",
    "        super().__init__(project, job_name)\n",
    "        self.input.update({  # Default Parameter \n",
    "            \"structure\": None, \n",
    "            \"pseudopotentials\": pseudopotentials, \n",
    "            \"kpts\": (3, 3, 3),\n",
    "        })\n",
    "        self.executable = \"mpirun -np 1 pw.x -in static.pwi > static.pwo\"\n",
    "\n",
    "    def write_input(self):\n",
    "        write_input_calc_static(input_dict=self.input.to_builtin(), working_directory=self.working_directory)\n",
    "\n",
    "    def collect_output(self):\n",
    "        self.output.update(collect_output_calc_static(working_directory=self.working_directory))\n",
    "        self.to_hdf()"
   ]
  },
  {
   "cell_type": "markdown",
   "metadata": {},
   "source": [
    "# Workflow"
   ]
  },
  {
   "cell_type": "code",
   "execution_count": 11,
   "metadata": {},
   "outputs": [],
   "source": [
    "from pyiron_base import Project"
   ]
  },
  {
   "cell_type": "markdown",
   "metadata": {},
   "source": [
    "## Structure Optimization"
   ]
  },
  {
   "cell_type": "code",
   "execution_count": 12,
   "metadata": {},
   "outputs": [],
   "source": [
    "pseudopotentials = {\"Al\": \"Al.pbe-n-kjpaw_psl.1.0.0.UPF\"}"
   ]
  },
  {
   "cell_type": "code",
   "execution_count": 13,
   "metadata": {},
   "outputs": [],
   "source": [
    "pr = Project(\"test\")\n",
    "pr.remove_jobs(recursive=True, silently=True)"
   ]
  },
  {
   "cell_type": "code",
   "execution_count": 14,
   "metadata": {},
   "outputs": [],
   "source": [
    "structure = bulk('Al', a=4.15, cubic=True)"
   ]
  },
  {
   "cell_type": "code",
   "execution_count": 15,
   "metadata": {},
   "outputs": [],
   "source": [
    "job_qe_minimize = pr.create_job(job_type=QEMinimize, job_name=\"qe_relax\")"
   ]
  },
  {
   "cell_type": "code",
   "execution_count": 16,
   "metadata": {},
   "outputs": [
    {
     "data": {
      "application/json": {
       "kpts": "(3, 3, 3)",
       "pseudopotentials": "{'Al': 'Al.pbe-n-kjpaw_psl.1.0.0.UPF'}",
       "structure": "None"
      },
      "text/html": [
       "<pre>DataContainer({\n",
       "  \"structure\": \"None\",\n",
       "  \"pseudopotentials\": \"{'Al': 'Al.pbe-n-kjpaw_psl.1.0.0.UPF'}\",\n",
       "  \"kpts\": \"(3, 3, 3)\"\n",
       "})</pre>"
      ],
      "text/plain": [
       "DataContainer({'structure': None, 'pseudopotentials': {'Al': 'Al.pbe-n-kjpaw_psl.1.0.0.UPF'}, 'kpts': (3, 3, 3)})"
      ]
     },
     "execution_count": 16,
     "metadata": {},
     "output_type": "execute_result"
    }
   ],
   "source": [
    "job_qe_minimize.input"
   ]
  },
  {
   "cell_type": "code",
   "execution_count": 17,
   "metadata": {},
   "outputs": [],
   "source": [
    "job_qe_minimize.input.structure = structure"
   ]
  },
  {
   "cell_type": "code",
   "execution_count": 18,
   "metadata": {},
   "outputs": [
    {
     "name": "stdout",
     "output_type": "stream",
     "text": [
      "The job qe_relax was saved and received the ID: qe_relax\n"
     ]
    }
   ],
   "source": [
    "job_qe_minimize.run()"
   ]
  },
  {
   "cell_type": "code",
   "execution_count": 19,
   "metadata": {},
   "outputs": [
    {
     "data": {
      "text/plain": [
       "Atoms(symbols='Al4', pbc=False, cell=[4.138959348, 4.138959348, 4.138959348])"
      ]
     },
     "execution_count": 19,
     "metadata": {},
     "output_type": "execute_result"
    }
   ],
   "source": [
    "structure_opt = job_qe_minimize.output.structure\n",
    "structure_opt"
   ]
  },
  {
   "cell_type": "markdown",
   "metadata": {},
   "source": [
    "## Energy Volume Curve"
   ]
  },
  {
   "cell_type": "code",
   "execution_count": 25,
   "metadata": {},
   "outputs": [
    {
     "name": "stdout",
     "output_type": "stream",
     "text": [
      "The job job_strain_0 was saved and received the ID: job_strain_0\n",
      "The job job_strain_1 was saved and received the ID: job_strain_1\n",
      "The job job_strain_2 was saved and received the ID: job_strain_2\n",
      "The job job_strain_3 was saved and received the ID: job_strain_3\n",
      "The job job_strain_4 was saved and received the ID: job_strain_4\n"
     ]
    }
   ],
   "source": [
    "energy_lst, volume_lst = [], []\n",
    "for i, strain in enumerate(np.linspace(0.9, 1.1, 5)):\n",
    "    structure_strain = structure_opt.copy()\n",
    "    structure_strain = structure.copy()\n",
    "    structure_strain.set_cell(structure_strain.cell * strain**(1/3), scale_atoms=True)\n",
    "    job_strain = pr.create_job(job_type=QEStatic, job_name=\"job_strain_\" + str(i))\n",
    "    job_strain.input.structure = structure_strain\n",
    "    job_strain.run(delete_existing_job=True)\n",
    "    energy_lst.append(job_strain.output.energy)\n",
    "    volume_lst.append(job_strain.output.volume)"
   ]
  },
  {
   "cell_type": "markdown",
   "metadata": {},
   "source": [
    "# Result"
   ]
  },
  {
   "cell_type": "code",
   "execution_count": 26,
   "metadata": {},
   "outputs": [
    {
     "data": {
      "text/plain": [
       "Text(0, 0.5, 'Energy')"
      ]
     },
     "execution_count": 26,
     "metadata": {},
     "output_type": "execute_result"
    },
    {
     "data": {
      "image/png": "[encoded data removed]",
      "text/plain": [
       "<Figure size 640x480 with 1 Axes>"
      ]
     },
     "metadata": {},
     "output_type": "display_data"
    }
   ],
   "source": [
    "plt.plot(volume_lst, energy_lst)\n",
    "plt.xlabel(\"Volume\")\n",
    "plt.ylabel(\"Energy\")"
   ]
  },
  {
   "cell_type": "code",
   "execution_count": null,
   "metadata": {},
   "outputs": [],
   "source": []
  }
 ],
 "metadata": {
  "kernelspec": {
   "display_name": "Python 3 (ipykernel)",
   "language": "python",
   "name": "python3"
  },
  "language_info": {
   "codemirror_mode": {
    "name": "ipython",
    "version": 3
   },
   "file_extension": ".py",
   "mimetype": "text/x-python",
   "name": "python",
   "nbconvert_exporter": "python",
   "pygments_lexer": "ipython3",
   "version": "3.11.7"
  }
 },
 "nbformat": 4,
 "nbformat_minor": 4
}
