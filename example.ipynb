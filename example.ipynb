{
 "cells": [
  {
   "cell_type": "code",
   "execution_count": 1,
   "metadata": {},
   "outputs": [],
   "source": [
    "import os\n",
    "import subprocess"
   ]
  },
  {
   "cell_type": "code",
   "execution_count": 2,
   "metadata": {},
   "outputs": [],
   "source": [
    "import matplotlib.pyplot as plt\n",
    "import numpy as np"
   ]
  },
  {
   "cell_type": "code",
   "execution_count": 3,
   "metadata": {},
   "outputs": [],
   "source": [
    "from ase.build import bulk\n",
    "from ase.calculators.espresso import Espresso\n",
    "from ase.io import write\n",
    "from pwtools import io"
   ]
  },
  {
   "cell_type": "markdown",
   "metadata": {},
   "source": [
    "# Functions"
   ]
  },
  {
   "cell_type": "code",
   "execution_count": 4,
   "metadata": {},
   "outputs": [],
   "source": [
    "def write_input_calc_minimize(input_dict, working_directory=\".\"):\n",
    "    filename = os.path.join(working_directory, 'relax.pwi')\n",
    "    os.makedirs(working_directory, exist_ok=True)\n",
    "    input_data_relax = {\n",
    "        'calculation': 'vc-relax',\n",
    "        'cell_dofree': 'ibrav',\n",
    "    }\n",
    "    write(\n",
    "        filename=filename, \n",
    "        images=input_dict[\"structure\"], \n",
    "        Crystal=True, \n",
    "        kpts=input_dict[\"kpts\"], \n",
    "        input_data=input_data_relax, \n",
    "        pseudopotentials=input_dict[\"pseudopotentials\"],\n",
    "        tstress=True, \n",
    "        tprnfor=True\n",
    "    )"
   ]
  },
  {
   "cell_type": "code",
   "execution_count": 5,
   "metadata": {},
   "outputs": [],
   "source": [
    "def write_input_calc_static(input_dict, working_directory=\".\"):\n",
    "    filename = os.path.join(working_directory, 'static.pwi')\n",
    "    os.makedirs(working_directory, exist_ok=True)\n",
    "    input_data_static = {\n",
    "        'calculation': 'scf', # A string describing the task to be performed.\n",
    "    }\n",
    "    write(\n",
    "        filename=filename, \n",
    "        images=input_dict[\"structure\"], \n",
    "        Crystal=True, \n",
    "        kpts=input_dict[\"kpts\"], \n",
    "        input_data=input_data_static, \n",
    "        pseudopotentials=input_dict[\"pseudopotentials\"],\n",
    "        tstress=True, \n",
    "        tprnfor=True\n",
    "    )"
   ]
  },
  {
   "cell_type": "code",
   "execution_count": 6,
   "metadata": {},
   "outputs": [],
   "source": [
    "def collect_output_calc_minimize(working_directory=\".\"):\n",
    "    filename = os.path.join(working_directory, 'relax.pwo')\n",
    "    # return {\"structure\": io.read_pw_md(filename)[-1].get_ase_atoms()}\n",
    "    return {\"structure\": io.read_pw_md(filename)[-1].get_ase_atoms()}"
   ]
  },
  {
   "cell_type": "code",
   "execution_count": 7,
   "metadata": {},
   "outputs": [],
   "source": [
    "def collect_output_calc_static(working_directory=\".\"):\n",
    "    filename = os.path.join(working_directory, 'static.pwo')\n",
    "    out = io.read_pw_scf(filename)\n",
    "    return {\n",
    "        \"energy\": out.etot,\n",
    "        \"volume\": out.volume,\n",
    "    }"
   ]
  },
  {
   "cell_type": "markdown",
   "metadata": {},
   "source": [
    "# pyiron_base"
   ]
  },
  {
   "cell_type": "code",
   "execution_count": 8,
   "metadata": {},
   "outputs": [],
   "source": [
    "from pyiron_base.jobs.job.template import TemplateJob\n",
    "from pyiron_base.jobs.job.extension.executable import Executable"
   ]
  },
  {
   "cell_type": "code",
   "execution_count": 9,
   "metadata": {},
   "outputs": [],
   "source": [
    "class QEMinimize(TemplateJob):\n",
    "    def __init__(self, project, job_name):\n",
    "        super().__init__(project, job_name)\n",
    "        self.input.update({  # Default Parameter \n",
    "            \"structure\": None, \n",
    "            \"pseudopotentials\": pseudopotentials, \n",
    "            \"kpts\": (3, 3, 3),\n",
    "        })\n",
    "        self.executable = \"mpirun -np 1 pw.x -in relax.pwi > relax.pwo\"\n",
    "\n",
    "    def write_input(self):\n",
    "        write_input_calc_minimize(input_dict=self.input.to_builtin(), working_directory=self.working_directory)\n",
    "\n",
    "    def collect_output(self):\n",
    "        self.output.update(collect_output_calc_minimize(working_directory=self.working_directory))\n",
    "        self.to_hdf()"
   ]
  },
  {
   "cell_type": "code",
   "execution_count": 10,
   "metadata": {},
   "outputs": [],
   "source": [
    "class QEStatic(TemplateJob):\n",
    "    def __init__(self, project, job_name):\n",
    "        super().__init__(project, job_name)\n",
    "        self.input.update({  # Default Parameter \n",
    "            \"structure\": None, \n",
    "            \"pseudopotentials\": pseudopotentials, \n",
    "            \"kpts\": (3, 3, 3),\n",
    "        })\n",
    "        self.executable = \"mpirun -np 1 pw.x -in static.pwi > static.pwo\"\n",
    "\n",
    "    def write_input(self):\n",
    "        write_input_calc_static(input_dict=self.input.to_builtin(), working_directory=self.working_directory)\n",
    "\n",
    "    def collect_output(self):\n",
    "        self.output.update(collect_output_calc_static(working_directory=self.working_directory))\n",
    "        self.to_hdf()"
   ]
  },
  {
   "cell_type": "markdown",
   "metadata": {},
   "source": [
    "# Workflow"
   ]
  },
  {
   "cell_type": "code",
   "execution_count": 11,
   "metadata": {},
   "outputs": [],
   "source": [
    "from pyiron_base import Project"
   ]
  },
  {
   "cell_type": "markdown",
   "metadata": {},
   "source": [
    "## Structure Optimization"
   ]
  },
  {
   "cell_type": "code",
   "execution_count": 12,
   "metadata": {},
   "outputs": [],
   "source": [
    "pseudopotentials = {\"Al\": \"Al.pbe-n-kjpaw_psl.1.0.0.UPF\"}"
   ]
  },
  {
   "cell_type": "code",
   "execution_count": 13,
   "metadata": {},
   "outputs": [
    {
     "data": {
      "application/vnd.jupyter.widget-view+json": {
       "model_id": "ffc2ca7751b6475fb21ce1931baaba0e",
       "version_major": 2,
       "version_minor": 0
      },
      "text/plain": [
       "  0%|          | 0/6 [00:00<?, ?it/s]"
      ]
     },
     "metadata": {},
     "output_type": "display_data"
    }
   ],
   "source": [
    "pr = Project(\"test\")\n",
    "pr.remove_jobs(recursive=True, silently=True)"
   ]
  },
  {
   "cell_type": "code",
   "execution_count": 14,
   "metadata": {},
   "outputs": [],
   "source": [
    "structure = bulk('Al', a=4.15, cubic=True)"
   ]
  },
  {
   "cell_type": "code",
   "execution_count": 15,
   "metadata": {},
   "outputs": [],
   "source": [
    "job_qe_minimize = pr.create_job(job_type=QEMinimize, job_name=\"qe_relax\")"
   ]
  },
  {
   "cell_type": "code",
   "execution_count": 16,
   "metadata": {},
   "outputs": [
    {
     "data": {
      "application/json": {
       "kpts": "(3, 3, 3)",
       "pseudopotentials": "{'Al': 'Al.pbe-n-kjpaw_psl.1.0.0.UPF'}",
       "structure": "None"
      },
      "text/html": [
       "<pre>DataContainer({\n",
       "  \"structure\": \"None\",\n",
       "  \"pseudopotentials\": \"{'Al': 'Al.pbe-n-kjpaw_psl.1.0.0.UPF'}\",\n",
       "  \"kpts\": \"(3, 3, 3)\"\n",
       "})</pre>"
      ],
      "text/plain": [
       "DataContainer({'structure': None, 'pseudopotentials': {'Al': 'Al.pbe-n-kjpaw_psl.1.0.0.UPF'}, 'kpts': (3, 3, 3)})"
      ]
     },
     "execution_count": 16,
     "metadata": {},
     "output_type": "execute_result"
    }
   ],
   "source": [
    "job_qe_minimize.input"
   ]
  },
  {
   "cell_type": "code",
   "execution_count": 17,
   "metadata": {},
   "outputs": [],
   "source": [
    "job_qe_minimize.input.structure = structure"
   ]
  },
  {
   "cell_type": "code",
   "execution_count": 18,
   "metadata": {},
   "outputs": [
    {
     "name": "stdout",
     "output_type": "stream",
     "text": [
      "The job qe_relax was saved and received the ID: qe_relax\n"
     ]
    }
   ],
   "source": [
    "job_qe_minimize.run()"
   ]
  },
  {
   "cell_type": "code",
   "execution_count": 19,
   "metadata": {},
   "outputs": [
    {
     "data": {
      "text/plain": [
       "Atoms(symbols='Al4', pbc=False, cell=[4.138924021999999, 4.138924021999999, 4.138924021999999])"
      ]
     },
     "execution_count": 19,
     "metadata": {},
     "output_type": "execute_result"
    }
   ],
   "source": [
    "structure_opt = job_qe_minimize.output.structure\n",
    "structure_opt"
   ]
  },
  {
   "cell_type": "markdown",
   "metadata": {},
   "source": [
    "## Energy Volume Curve"
   ]
  },
  {
   "cell_type": "code",
   "execution_count": 20,
   "metadata": {},
   "outputs": [
    {
     "name": "stdout",
     "output_type": "stream",
     "text": [
      "The job job_strain_0 was saved and received the ID: job_strain_0\n",
      "The job job_strain_1 was saved and received the ID: job_strain_1\n",
      "The job job_strain_2 was saved and received the ID: job_strain_2\n",
      "The job job_strain_3 was saved and received the ID: job_strain_3\n",
      "The job job_strain_4 was saved and received the ID: job_strain_4\n"
     ]
    }
   ],
   "source": [
    "energy_lst, volume_lst = [], []\n",
    "for i, strain in enumerate(np.linspace(0.9, 1.1, 5)):\n",
    "    structure_strain = structure_opt.copy()\n",
    "    structure_strain = structure.copy()\n",
    "    structure_strain.set_cell(structure_strain.cell * strain**(1/3), scale_atoms=True)\n",
    "    job_strain = pr.create_job(job_type=QEStatic, job_name=\"job_strain_\" + str(i))\n",
    "    job_strain.input.structure = structure_strain\n",
    "    job_strain.run()\n",
    "    energy_lst.append(job_strain.output.energy)\n",
    "    volume_lst.append(job_strain.output.volume)"
   ]
  },
  {
   "cell_type": "markdown",
   "metadata": {},
   "source": [
    "# Result"
   ]
  },
  {
   "cell_type": "code",
   "execution_count": 21,
   "metadata": {},
   "outputs": [
    {
     "data": {
      "text/plain": [
       "Text(0, 0.5, 'Energy')"
      ]
     },
     "execution_count": 21,
     "metadata": {},
     "output_type": "execute_result"
    },
    {
     "data": {
      "image/png": "[encoded data removed]",
      "text/plain": [
       "<Figure size 640x480 with 1 Axes>"
      ]
     },
     "metadata": {},
     "output_type": "display_data"
    }
   ],
   "source": [
    "plt.plot(volume_lst, energy_lst)\n",
    "plt.xlabel(\"Volume\")\n",
    "plt.ylabel(\"Energy\")"
   ]
  },
  {
   "cell_type": "markdown",
   "metadata": {},
   "source": [
    "# Summary"
   ]
  },
  {
   "cell_type": "code",
   "execution_count": 22,
   "metadata": {},
   "outputs": [
    {
     "data": {
      "text/html": [
       "<div>\n",
       "<style scoped>\n",
       "    .dataframe tbody tr th:only-of-type {\n",
       "        vertical-align: middle;\n",
       "    }\n",
       "\n",
       "    .dataframe tbody tr th {\n",
       "        vertical-align: top;\n",
       "    }\n",
       "\n",
       "    .dataframe thead th {\n",
       "        text-align: right;\n",
       "    }\n",
       "</style>\n",
       "<table border=\"1\" class=\"dataframe\">\n",
       "  <thead>\n",
       "    <tr style=\"text-align: right;\">\n",
       "      <th></th>\n",
       "      <th>id</th>\n",
       "      <th>status</th>\n",
       "      <th>chemicalformula</th>\n",
       "      <th>job</th>\n",
       "      <th>subjob</th>\n",
       "      <th>projectpath</th>\n",
       "      <th>project</th>\n",
       "      <th>hamilton</th>\n",
       "      <th>hamversion</th>\n",
       "      <th>timestart</th>\n",
       "      <th>computer</th>\n",
       "      <th>parentid</th>\n",
       "      <th>username</th>\n",
       "      <th>timestop</th>\n",
       "      <th>totalcputime</th>\n",
       "      <th>masterid</th>\n",
       "    </tr>\n",
       "  </thead>\n",
       "  <tbody>\n",
       "    <tr>\n",
       "      <th>0</th>\n",
       "      <td>1</td>\n",
       "      <td>finished</td>\n",
       "      <td>None</td>\n",
       "      <td>qe_relax</td>\n",
       "      <td>/qe_relax</td>\n",
       "      <td>None</td>\n",
       "      <td>/home/janssen/notebooks/2024/2024-01-03-quantum-espresso/test/</td>\n",
       "      <td>QEMinimize</td>\n",
       "      <td>mpirun -np 1 pw.x -in relax.pwi &gt; relax.pwo</td>\n",
       "      <td>2024-01-10 16:36:39.650314</td>\n",
       "      <td>None</td>\n",
       "      <td>None</td>\n",
       "      <td>None</td>\n",
       "      <td>2024-01-10 16:36:39.650314</td>\n",
       "      <td>0.0</td>\n",
       "      <td>None</td>\n",
       "    </tr>\n",
       "    <tr>\n",
       "      <th>1</th>\n",
       "      <td>2</td>\n",
       "      <td>finished</td>\n",
       "      <td>None</td>\n",
       "      <td>job_strain_0</td>\n",
       "      <td>/job_strain_0</td>\n",
       "      <td>None</td>\n",
       "      <td>/home/janssen/notebooks/2024/2024-01-03-quantum-espresso/test/</td>\n",
       "      <td>QEStatic</td>\n",
       "      <td>mpirun -np 1 pw.x -in static.pwi &gt; static.pwo</td>\n",
       "      <td>2024-01-10 16:37:33.452269</td>\n",
       "      <td>None</td>\n",
       "      <td>None</td>\n",
       "      <td>None</td>\n",
       "      <td>2024-01-10 16:37:33.452269</td>\n",
       "      <td>0.0</td>\n",
       "      <td>None</td>\n",
       "    </tr>\n",
       "    <tr>\n",
       "      <th>2</th>\n",
       "      <td>3</td>\n",
       "      <td>finished</td>\n",
       "      <td>None</td>\n",
       "      <td>job_strain_1</td>\n",
       "      <td>/job_strain_1</td>\n",
       "      <td>None</td>\n",
       "      <td>/home/janssen/notebooks/2024/2024-01-03-quantum-espresso/test/</td>\n",
       "      <td>QEStatic</td>\n",
       "      <td>mpirun -np 1 pw.x -in static.pwi &gt; static.pwo</td>\n",
       "      <td>2024-01-10 16:38:15.913475</td>\n",
       "      <td>None</td>\n",
       "      <td>None</td>\n",
       "      <td>None</td>\n",
       "      <td>2024-01-10 16:38:15.913475</td>\n",
       "      <td>0.0</td>\n",
       "      <td>None</td>\n",
       "    </tr>\n",
       "    <tr>\n",
       "      <th>3</th>\n",
       "      <td>4</td>\n",
       "      <td>finished</td>\n",
       "      <td>None</td>\n",
       "      <td>job_strain_2</td>\n",
       "      <td>/job_strain_2</td>\n",
       "      <td>None</td>\n",
       "      <td>/home/janssen/notebooks/2024/2024-01-03-quantum-espresso/test/</td>\n",
       "      <td>QEStatic</td>\n",
       "      <td>mpirun -np 1 pw.x -in static.pwi &gt; static.pwo</td>\n",
       "      <td>2024-01-10 16:38:34.744407</td>\n",
       "      <td>None</td>\n",
       "      <td>None</td>\n",
       "      <td>None</td>\n",
       "      <td>2024-01-10 16:38:34.744407</td>\n",
       "      <td>0.0</td>\n",
       "      <td>None</td>\n",
       "    </tr>\n",
       "    <tr>\n",
       "      <th>4</th>\n",
       "      <td>5</td>\n",
       "      <td>finished</td>\n",
       "      <td>None</td>\n",
       "      <td>job_strain_3</td>\n",
       "      <td>/job_strain_3</td>\n",
       "      <td>None</td>\n",
       "      <td>/home/janssen/notebooks/2024/2024-01-03-quantum-espresso/test/</td>\n",
       "      <td>QEStatic</td>\n",
       "      <td>mpirun -np 1 pw.x -in static.pwi &gt; static.pwo</td>\n",
       "      <td>2024-01-10 16:38:41.853381</td>\n",
       "      <td>None</td>\n",
       "      <td>None</td>\n",
       "      <td>None</td>\n",
       "      <td>2024-01-10 16:38:41.853381</td>\n",
       "      <td>0.0</td>\n",
       "      <td>None</td>\n",
       "    </tr>\n",
       "    <tr>\n",
       "      <th>5</th>\n",
       "      <td>6</td>\n",
       "      <td>finished</td>\n",
       "      <td>None</td>\n",
       "      <td>job_strain_4</td>\n",
       "      <td>/job_strain_4</td>\n",
       "      <td>None</td>\n",
       "      <td>/home/janssen/notebooks/2024/2024-01-03-quantum-espresso/test/</td>\n",
       "      <td>QEStatic</td>\n",
       "      <td>mpirun -np 1 pw.x -in static.pwi &gt; static.pwo</td>\n",
       "      <td>2024-01-10 16:38:59.696323</td>\n",
       "      <td>None</td>\n",
       "      <td>None</td>\n",
       "      <td>None</td>\n",
       "      <td>2024-01-10 16:38:59.696323</td>\n",
       "      <td>0.0</td>\n",
       "      <td>None</td>\n",
       "    </tr>\n",
       "  </tbody>\n",
       "</table>\n",
       "</div>"
      ],
      "text/plain": [
       "   id    status chemicalformula           job         subjob projectpath  \\\n",
       "0   1  finished            None      qe_relax      /qe_relax        None   \n",
       "1   2  finished            None  job_strain_0  /job_strain_0        None   \n",
       "2   3  finished            None  job_strain_1  /job_strain_1        None   \n",
       "3   4  finished            None  job_strain_2  /job_strain_2        None   \n",
       "4   5  finished            None  job_strain_3  /job_strain_3        None   \n",
       "5   6  finished            None  job_strain_4  /job_strain_4        None   \n",
       "\n",
       "                                                          project    hamilton  \\\n",
       "0  /home/janssen/notebooks/2024/2024-01-03-quantum-espresso/test/  QEMinimize   \n",
       "1  /home/janssen/notebooks/2024/2024-01-03-quantum-espresso/test/    QEStatic   \n",
       "2  /home/janssen/notebooks/2024/2024-01-03-quantum-espresso/test/    QEStatic   \n",
       "3  /home/janssen/notebooks/2024/2024-01-03-quantum-espresso/test/    QEStatic   \n",
       "4  /home/janssen/notebooks/2024/2024-01-03-quantum-espresso/test/    QEStatic   \n",
       "5  /home/janssen/notebooks/2024/2024-01-03-quantum-espresso/test/    QEStatic   \n",
       "\n",
       "                                      hamversion                  timestart  \\\n",
       "0    mpirun -np 1 pw.x -in relax.pwi > relax.pwo 2024-01-10 16:36:39.650314   \n",
       "1  mpirun -np 1 pw.x -in static.pwi > static.pwo 2024-01-10 16:37:33.452269   \n",
       "2  mpirun -np 1 pw.x -in static.pwi > static.pwo 2024-01-10 16:38:15.913475   \n",
       "3  mpirun -np 1 pw.x -in static.pwi > static.pwo 2024-01-10 16:38:34.744407   \n",
       "4  mpirun -np 1 pw.x -in static.pwi > static.pwo 2024-01-10 16:38:41.853381   \n",
       "5  mpirun -np 1 pw.x -in static.pwi > static.pwo 2024-01-10 16:38:59.696323   \n",
       "\n",
       "  computer parentid username                   timestop  totalcputime masterid  \n",
       "0     None     None     None 2024-01-10 16:36:39.650314           0.0     None  \n",
       "1     None     None     None 2024-01-10 16:37:33.452269           0.0     None  \n",
       "2     None     None     None 2024-01-10 16:38:15.913475           0.0     None  \n",
       "3     None     None     None 2024-01-10 16:38:34.744407           0.0     None  \n",
       "4     None     None     None 2024-01-10 16:38:41.853381           0.0     None  \n",
       "5     None     None     None 2024-01-10 16:38:59.696323           0.0     None  "
      ]
     },
     "execution_count": 22,
     "metadata": {},
     "output_type": "execute_result"
    }
   ],
   "source": [
    "pr.job_table()"
   ]
  },
  {
   "cell_type": "code",
   "execution_count": null,
   "metadata": {},
   "outputs": [],
   "source": []
  }
 ],
 "metadata": {
  "kernelspec": {
   "display_name": "Python 3 (ipykernel)",
   "language": "python",
   "name": "python3"
  },
  "language_info": {
   "codemirror_mode": {
    "name": "ipython",
    "version": 3
   },
   "file_extension": ".py",
   "mimetype": "text/x-python",
   "name": "python",
   "nbconvert_exporter": "python",
   "pygments_lexer": "ipython3",
   "version": "3.11.7"
  }
 },
 "nbformat": 4,
 "nbformat_minor": 4
}
