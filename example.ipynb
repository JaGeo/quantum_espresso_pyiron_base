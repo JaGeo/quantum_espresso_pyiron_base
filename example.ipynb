{
 "metadata": {
  "kernelspec": {
   "display_name": "Python 3 (ipykernel)",
   "language": "python",
   "name": "python3"
  },
  "language_info": {
   "name": "python",
   "version": "3.11.8",
   "mimetype": "text/x-python",
   "codemirror_mode": {
    "name": "ipython",
    "version": 3
   },
   "pygments_lexer": "ipython3",
   "nbconvert_exporter": "python",
   "file_extension": ".py"
  }
 },
 "nbformat_minor": 4,
 "nbformat": 4,
 "cells": [
  {
   "cell_type": "code",
   "source": [
    "import subprocess\n",
    "import os\n",
    "from pydantic import BaseModel, Field"
   ],
   "metadata": {
    "trusted": true,
    "ExecuteTime": {
     "end_time": "2024-04-04T12:23:39.230259Z",
     "start_time": "2024-04-04T12:23:39.139154Z"
    }
   },
   "execution_count": 1,
   "outputs": []
  },
  {
   "cell_type": "code",
   "source": [
    "import matplotlib.pyplot as plt\n",
    "import numpy as np"
   ],
   "metadata": {
    "trusted": true,
    "ExecuteTime": {
     "end_time": "2024-04-04T12:23:39.812727Z",
     "start_time": "2024-04-04T12:23:39.233298Z"
    }
   },
   "execution_count": 2,
   "outputs": []
  },
  {
   "cell_type": "code",
   "source": [
    "from ase.build import bulk\n",
    "from ase.io import write"
   ],
   "metadata": {
    "trusted": true,
    "ExecuteTime": {
     "end_time": "2024-04-04T12:23:40.064521Z",
     "start_time": "2024-04-04T12:23:39.815771Z"
    }
   },
   "execution_count": 3,
   "outputs": []
  },
  {
   "cell_type": "code",
   "source": [
    "from adis_tools.parsers import parse_pw"
   ],
   "metadata": {
    "trusted": true,
    "ExecuteTime": {
     "end_time": "2024-04-04T12:23:40.342218Z",
     "start_time": "2024-04-04T12:23:40.067769Z"
    }
   },
   "execution_count": 4,
   "outputs": []
  },
  {
   "cell_type": "markdown",
   "source": [
    "# Functions"
   ],
   "metadata": {}
  },
  {
   "cell_type": "code",
   "source": [
    "def generate_structures(structure, strain_lst): \n",
    "    structure_lst = []\n",
    "    for strain in strain_lst:\n",
    "        structure_strain = structure.copy()\n",
    "        structure_strain.set_cell(\n",
    "            structure_strain.cell * strain**(1/3), \n",
    "            scale_atoms=True\n",
    "        )\n",
    "        structure_lst.append(structure_strain)\n",
    "    return structure_lst"
   ],
   "metadata": {
    "trusted": true,
    "ExecuteTime": {
     "end_time": "2024-04-04T12:23:40.349810Z",
     "start_time": "2024-04-04T12:23:40.344659Z"
    }
   },
   "execution_count": 5,
   "outputs": []
  },
  {
   "cell_type": "code",
   "source": [
    "def plot_energy_volume_curve(volume_lst, energy_lst):\n",
    "    plt.plot(volume_lst, energy_lst)\n",
    "    plt.xlabel(\"Volume\")\n",
    "    plt.ylabel(\"Energy\")\n",
    "    plt.savefig(\"evcurve.png\")"
   ],
   "metadata": {
    "trusted": true,
    "ExecuteTime": {
     "end_time": "2024-04-04T12:23:40.354972Z",
     "start_time": "2024-04-04T12:23:40.351547Z"
    }
   },
   "execution_count": 6,
   "outputs": []
  },
  {
   "cell_type": "code",
   "source": [
    "def write_input(input_dict, working_directory=\".\"):\n",
    "    filename = os.path.join(working_directory, 'input.pwi')\n",
    "    os.makedirs(working_directory, exist_ok=True)\n",
    "    write(\n",
    "        filename=filename, \n",
    "        images=input_dict[\"structure\"], \n",
    "        Crystal=True, \n",
    "        kpts=input_dict[\"kpts\"], \n",
    "        input_data={\n",
    "            'calculation': input_dict[\"calculation\"],\n",
    "            'occupations': 'smearing',\n",
    "            'degauss': input_dict[\"smearing\"],\n",
    "        }, \n",
    "        pseudopotentials=input_dict[\"pseudopotentials\"],\n",
    "        tstress=True, \n",
    "        tprnfor=True\n",
    "    )"
   ],
   "metadata": {
    "trusted": true,
    "ExecuteTime": {
     "end_time": "2024-04-04T12:23:40.361062Z",
     "start_time": "2024-04-04T12:23:40.356433Z"
    }
   },
   "execution_count": 7,
   "outputs": []
  },
  {
   "cell_type": "code",
   "source": [
    "def collect_output(working_directory=\".\"):\n",
    "    output = parse_pw(os.path.join(working_directory, 'pwscf.xml'))\n",
    "    return {\n",
    "        \"structure\": output['ase_structure'],\n",
    "        \"energy\": output[\"energy\"],\n",
    "        \"volume\": output['ase_structure'].get_volume(),\n",
    "    }"
   ],
   "metadata": {
    "trusted": true,
    "ExecuteTime": {
     "end_time": "2024-04-04T12:23:40.365984Z",
     "start_time": "2024-04-04T12:23:40.362667Z"
    }
   },
   "execution_count": 8,
   "outputs": []
  },
  {
   "cell_type": "code",
   "outputs": [],
   "source": [
    "from pymatgen.io.core import InputSet, InputGenerator\n",
    "from pymatgen.io.ase import MSONAtoms\n",
    "from typing import Any, Optional, Union\n",
    "QE_CMD= \"mpirun -np 1 pw.x -in input.pwi > output.pwo\"\n",
    "def run_qe(qe_cmd=QE_CMD):\n",
    "    subprocess.check_output(qe_cmd, shell=True, universal_newlines=True)\n",
    "\n",
    "class QETaskDoc(BaseModel):\n",
    "    structure: Optional[MSONAtoms] = Field(None, description=\"ASE structure\")\n",
    "    energy: Optional[float] = Field(None, description=\"DFT energy in eV\")\n",
    "    volume: Optional[float] = Field(None, description=\"volume in Angstrom^3\")\n",
    "    \n",
    "    @classmethod\n",
    "    def from_directory(cls, working_directory):\n",
    "        output=collect_output(working_directory=working_directory)\n",
    "        # structure object needs to be serializable, i.e., we need an additional transformation\n",
    "        return cls(structure=MSONAtoms(output[\"structure\"]), energy=output[\"energy\"], volume=output[\"volume\"])\n",
    "\n",
    "class QEInputSet(InputSet):\n",
    "    \"\"\"\n",
    "    Writes an input based on an input_dict\n",
    "    \"\"\"\n",
    "    def __init__(self, input_dict):\n",
    "        self.input_dict = input_dict\n",
    "\n",
    "    def write_input(self, working_directory=\".\"):\n",
    "        write_input(self.input_dict, working_directory=working_directory)\n",
    "\n",
    "from dataclasses import dataclass, field\n",
    "\n",
    "\n",
    "\n",
    "@dataclass\n",
    "class QEInputGenerator(InputGenerator):\n",
    "    pseudopotentials: dict = field(default_factory=lambda: {\"Al\": \"Al.pbe-n-kjpaw_psl.1.0.0.UPF\"})\n",
    "    kpts: tuple = (3,3,3)\n",
    "    calculation: str = \"vc-relax\"\n",
    "    smearing: float = 0.02\n",
    "    \n",
    "\n",
    "    def get_input_set(self, structure) -> QEInputSet:\n",
    "\n",
    "        input_dict={\"structure\":structure,\n",
    "            \"pseudopotentials\":self.pseudopotentials, \n",
    "            \"kpts\": self.kpts,\n",
    "            \"calculation\": self.calculation,\n",
    "            \"smearing\": self.smearing,\n",
    "                    }\n",
    "        return QEInputSet(input_dict=input_dict)\n",
    "\n",
    "@dataclass\n",
    "class QEInputStaticGenerator(QEInputGenerator):\n",
    "    calculation: str = \"scf\"\n",
    "\n",
    "   \n",
    "def write_qe_input_set(structure, input_set_generator=QEInputGenerator(), working_directory=\".\"):\n",
    "    qis = input_set_generator.get_input_set(structure=structure)\n",
    "    qis.write_input(working_directory=working_directory)\n",
    "    \n",
    "    "
   ],
   "metadata": {
    "collapsed": false,
    "ExecuteTime": {
     "end_time": "2024-04-04T12:23:40.992461Z",
     "start_time": "2024-04-04T12:23:40.368632Z"
    }
   },
   "execution_count": 9
  },
  {
   "cell_type": "code",
   "source": [
    "from dataclasses import dataclass, field\n",
    "from jobflow import job, Maker\n",
    "\n",
    "\n",
    "@dataclass\n",
    "class BaseQEMaker(Maker):\n",
    "    \"\"\"\n",
    "    Base QE job maker.\n",
    "\n",
    "    Parameters\n",
    "    ----------\n",
    "    name : str\n",
    "        The job name.\n",
    "    input_set_generator : .QEInputGenerator\n",
    "        A generator used to make the input set.\n",
    "    \"\"\"\n",
    "\n",
    "    name: str = \"base qe job\"\n",
    "    input_set_generator: QEInputGenerator = field(default_factory=QEInputGenerator)\n",
    "\n",
    "    @job(output_schema=QETaskDoc)\n",
    "    def make(\n",
    "        self, structure\n",
    "    ) -> QETaskDoc:\n",
    "        \"\"\"\n",
    "        Run a QE calculation.\n",
    "\n",
    "        Parameters\n",
    "        ----------\n",
    "        structure : MSONAtoms|Atoms\n",
    "            An Atoms or MSONAtoms object.\n",
    "            \n",
    "        Returns\n",
    "        -------\n",
    "            Output of a QE calculation\n",
    "        \"\"\"\n",
    "        # copy previous inputs\n",
    "\n",
    "        # write qe input files\n",
    "        write_qe_input_set(\n",
    "            structure=structure, input_set_generator=self.input_set_generator)\n",
    "\n",
    "        # qe\n",
    "        run_qe()\n",
    "\n",
    "        # parse qe outputs\n",
    "        task_doc=QETaskDoc.from_directory(\".\")\n",
    "        \n",
    "        return task_doc\n",
    "\n",
    "@dataclass\n",
    "class StaticQEMaker(BaseQEMaker):\n",
    "    \"\"\"\n",
    "    Base QE job maker.\n",
    "\n",
    "    Parameters\n",
    "    ----------\n",
    "    name : str\n",
    "        The job name.\n",
    "    input_set_generator : .QEInputGenerator\n",
    "        A generator used to make the input set.\n",
    "    \"\"\"\n",
    "\n",
    "    name: str = \"static qe job\"\n",
    "    input_set_generator: QEInputGenerator = field(default_factory=QEInputStaticGenerator)\n",
    "\n",
    "\n",
    "\n",
    "from jobflow import job, Response, Flow, run_locally\n",
    "\n",
    "@job\n",
    "def get_ev_curve(structure, strain_lst):\n",
    "    structures=generate_structures(structure,strain_lst=strain_lst)\n",
    "    jobs = []\n",
    "    volumes = []\n",
    "    energies = []\n",
    "    for istructure in range(len(strain_lst)):\n",
    "        new_job = StaticQEMaker().make(structures[istructure])\n",
    "        jobs.append(new_job)\n",
    "        volumes.append(new_job.output.volume)\n",
    "        energies.append(new_job.output.energy)\n",
    "    return Response(replace=Flow(jobs, output={\"energies\": energies, \"volumes\": volumes}))\n",
    "    \n",
    "@job\n",
    "def plot_energy_volume_curve_job(volume_lst, energy_lst):\n",
    "    plot_energy_volume_curve(volume_lst=volume_lst, energy_lst=energy_lst)\n",
    "\n",
    "structure = bulk('Al', a=4.15, cubic=True)\n",
    "relax = BaseQEMaker().make(structure=MSONAtoms(structure))\n",
    "ev_curve = get_ev_curve(relax.output.structure, strain_lst=np.linspace(0.9, 1.1, 5))\n",
    "plot = plot_energy_volume_curve_job(volume_lst=ev_curve.output[\"volumes\"], energy_lst=ev_curve.output[\"energies\"])\n",
    "jobs = [relax, ev_curve, plot]\n",
    "run_locally(Flow(jobs), create_folders=True)"
   ],
   "metadata": {
    "trusted": true,
    "ExecuteTime": {
     "end_time": "2024-04-04T12:26:08.108635Z",
     "start_time": "2024-04-04T12:24:48.120617Z"
    }
   },
   "execution_count": 11,
   "outputs": [
    {
     "name": "stdout",
     "output_type": "stream",
     "text": [
      "2024-04-04 14:24:48,143 INFO Started executing jobs locally\n",
      "2024-04-04 14:24:48,149 INFO Starting job - base qe job (924a29fb-9402-4b59-b308-10ad18c8af33)\n"
     ]
    },
    {
     "name": "stderr",
     "output_type": "stream",
     "text": [
      "Note: The following floating-point exceptions are signalling: IEEE_INVALID_FLAG\n"
     ]
    },
    {
     "name": "stdout",
     "output_type": "stream",
     "text": [
      "2024-04-04 14:25:34,304 INFO Finished job - base qe job (924a29fb-9402-4b59-b308-10ad18c8af33)\n",
      "2024-04-04 14:25:34,314 INFO Starting job - get_ev_curve (700e895a-d57a-48d1-b7fd-2cbe4726bfa1)\n",
      "2024-04-04 14:25:34,338 INFO Finished job - get_ev_curve (700e895a-d57a-48d1-b7fd-2cbe4726bfa1)\n",
      "2024-04-04 14:25:34,345 INFO Starting job - static qe job (f2f1330e-9ff0-4f01-812d-057c8ab7bb61)\n"
     ]
    },
    {
     "name": "stderr",
     "output_type": "stream",
     "text": [
      "Note: The following floating-point exceptions are signalling: IEEE_INVALID_FLAG\n"
     ]
    },
    {
     "name": "stdout",
     "output_type": "stream",
     "text": [
      "2024-04-04 14:25:40,288 INFO Finished job - static qe job (f2f1330e-9ff0-4f01-812d-057c8ab7bb61)\n",
      "2024-04-04 14:25:40,293 INFO Starting job - static qe job (9de6b72f-937b-44a5-973f-a2e66f04896c)\n"
     ]
    },
    {
     "name": "stderr",
     "output_type": "stream",
     "text": [
      "Note: The following floating-point exceptions are signalling: IEEE_INVALID_FLAG\n"
     ]
    },
    {
     "name": "stdout",
     "output_type": "stream",
     "text": [
      "2024-04-04 14:25:46,422 INFO Finished job - static qe job (9de6b72f-937b-44a5-973f-a2e66f04896c)\n",
      "2024-04-04 14:25:46,430 INFO Starting job - static qe job (5826513c-2ce6-44c1-88cc-009e7513f369)\n"
     ]
    },
    {
     "name": "stderr",
     "output_type": "stream",
     "text": [
      "Note: The following floating-point exceptions are signalling: IEEE_INVALID_FLAG\n"
     ]
    },
    {
     "name": "stdout",
     "output_type": "stream",
     "text": [
      "2024-04-04 14:25:52,672 INFO Finished job - static qe job (5826513c-2ce6-44c1-88cc-009e7513f369)\n",
      "2024-04-04 14:25:52,678 INFO Starting job - static qe job (50bc59f4-5b57-4e9a-a588-db6465fcc002)\n"
     ]
    },
    {
     "name": "stderr",
     "output_type": "stream",
     "text": [
      "Note: The following floating-point exceptions are signalling: IEEE_INVALID_FLAG\n"
     ]
    },
    {
     "name": "stdout",
     "output_type": "stream",
     "text": [
      "2024-04-04 14:26:00,050 INFO Finished job - static qe job (50bc59f4-5b57-4e9a-a588-db6465fcc002)\n",
      "2024-04-04 14:26:00,054 INFO Starting job - static qe job (a1229dbc-d868-4e16-a564-a5087ae23acd)\n"
     ]
    },
    {
     "name": "stderr",
     "output_type": "stream",
     "text": [
      "Note: The following floating-point exceptions are signalling: IEEE_INVALID_FLAG\n"
     ]
    },
    {
     "name": "stdout",
     "output_type": "stream",
     "text": [
      "2024-04-04 14:26:07,350 INFO Finished job - static qe job (a1229dbc-d868-4e16-a564-a5087ae23acd)\n",
      "2024-04-04 14:26:07,357 INFO Starting job - store_inputs (700e895a-d57a-48d1-b7fd-2cbe4726bfa1, 2)\n",
      "2024-04-04 14:26:07,364 INFO Finished job - store_inputs (700e895a-d57a-48d1-b7fd-2cbe4726bfa1, 2)\n",
      "2024-04-04 14:26:07,370 INFO Starting job - plot_energy_volume_curve_job (a95e299e-69c7-46ab-bc3f-90797068bedb)\n",
      "2024-04-04 14:26:07,962 INFO Finished job - plot_energy_volume_curve_job (a95e299e-69c7-46ab-bc3f-90797068bedb)\n",
      "2024-04-04 14:26:07,964 INFO Finished executing jobs locally\n"
     ]
    },
    {
     "data": {
      "text/plain": "{'924a29fb-9402-4b59-b308-10ad18c8af33': {1: Response(output=QETaskDoc(structure=MSONAtoms(symbols='Al4', pbc=True, cell=[4.045218941852662, 4.04521894185266, 4.04521894185266]), energy=-1074.9365272692453, volume=66.19513870290852), detour=None, addition=None, replace=None, stored_data=None, stop_children=False, stop_jobflow=False)},\n '700e895a-d57a-48d1-b7fd-2cbe4726bfa1': {1: Response(output=None, detour=None, addition=None, replace=Flow(name='Flow', uuid='6a1380d8-fba8-4545-8912-af2795bd813b')\n  1. Job(name='static qe job', uuid='f2f1330e-9ff0-4f01-812d-057c8ab7bb61')\n  2. Job(name='static qe job', uuid='9de6b72f-937b-44a5-973f-a2e66f04896c')\n  3. Job(name='static qe job', uuid='5826513c-2ce6-44c1-88cc-009e7513f369')\n  4. Job(name='static qe job', uuid='50bc59f4-5b57-4e9a-a588-db6465fcc002')\n  5. Job(name='static qe job', uuid='a1229dbc-d868-4e16-a564-a5087ae23acd')\n  6. Job(name='store_inputs', uuid='700e895a-d57a-48d1-b7fd-2cbe4726bfa1'), stored_data=None, stop_children=False, stop_jobflow=False),\n  2: Response(output={'energies': [OutputReference(f2f1330e-9ff0-4f01-812d-057c8ab7bb61, .energy), OutputReference(9de6b72f-937b-44a5-973f-a2e66f04896c, .energy), OutputReference(5826513c-2ce6-44c1-88cc-009e7513f369, .energy), OutputReference(50bc59f4-5b57-4e9a-a588-db6465fcc002, .energy), OutputReference(a1229dbc-d868-4e16-a564-a5087ae23acd, .energy)], 'volumes': [OutputReference(f2f1330e-9ff0-4f01-812d-057c8ab7bb61, .volume), OutputReference(9de6b72f-937b-44a5-973f-a2e66f04896c, .volume), OutputReference(5826513c-2ce6-44c1-88cc-009e7513f369, .volume), OutputReference(50bc59f4-5b57-4e9a-a588-db6465fcc002, .volume), OutputReference(a1229dbc-d868-4e16-a564-a5087ae23acd, .volume)]}, detour=None, addition=None, replace=None, stored_data=None, stop_children=False, stop_jobflow=False)},\n 'f2f1330e-9ff0-4f01-812d-057c8ab7bb61': {1: Response(output=QETaskDoc(structure=MSONAtoms(symbols='Al4', pbc=True, cell=[3.9056159296931603, 3.9056159296931603, 3.9056159296931603]), energy=-1074.84518307612, volume=59.57562405141378), detour=None, addition=None, replace=None, stored_data=None, stop_children=False, stop_jobflow=False)},\n '9de6b72f-937b-44a5-973f-a2e66f04896c': {1: Response(output=QETaskDoc(structure=MSONAtoms(symbols='Al4', pbc=True, cell=[3.9766426436034776, 3.9766426436034776, 3.9766426436034776]), energy=-1074.9158947386766, volume=62.885380943159156), detour=None, addition=None, replace=None, stored_data=None, stop_children=False, stop_jobflow=False)},\n '5826513c-2ce6-44c1-88cc-009e7513f369': {1: Response(output=QETaskDoc(structure=MSONAtoms(symbols='Al4', pbc=True, cell=[4.045218924171264, 4.045218924171264, 4.045218924171264]), energy=-1074.936525208874, volume=66.19513783490423), detour=None, addition=None, replace=None, stored_data=None, stop_children=False, stop_jobflow=False)},\n '50bc59f4-5b57-4e9a-a588-db6465fcc002': {1: Response(output=QETaskDoc(structure=MSONAtoms(symbols='Al4', pbc=True, cell=[4.111545777046174, 4.111545777046174, 4.111545777046174]), energy=-1074.9194989202388, volume=69.50489472664945), detour=None, addition=None, replace=None, stored_data=None, stop_children=False, stop_jobflow=False)},\n 'a1229dbc-d868-4e16-a564-a5087ae23acd': {1: Response(output=QETaskDoc(structure=MSONAtoms(symbols='Al4', pbc=True, cell=[4.1757990580897975, 4.1757990580897975, 4.1757990580897975]), energy=-1074.8741797822533, volume=72.81465161839485), detour=None, addition=None, replace=None, stored_data=None, stop_children=False, stop_jobflow=False)},\n 'a95e299e-69c7-46ab-bc3f-90797068bedb': {1: Response(output=None, detour=None, addition=None, replace=None, stored_data=None, stop_children=False, stop_jobflow=False)}}"
     },
     "execution_count": 11,
     "metadata": {},
     "output_type": "execute_result"
    },
    {
     "data": {
      "text/plain": "<Figure size 640x480 with 1 Axes>",
      "image/png": "[encoded data removed]"
     },
     "metadata": {},
     "output_type": "display_data"
    }
   ]
  },
  {
   "cell_type": "code",
   "outputs": [],
   "source": [],
   "metadata": {
    "collapsed": false,
    "ExecuteTime": {
     "end_time": "2024-04-04T12:23:49.409448Z",
     "start_time": "2024-04-04T12:23:49.404281Z"
    }
   },
   "execution_count": 10
  },
  {
   "cell_type": "code",
   "outputs": [],
   "source": [],
   "metadata": {
    "collapsed": false,
    "ExecuteTime": {
     "end_time": "2024-04-04T12:23:49.414721Z",
     "start_time": "2024-04-04T12:23:49.411543Z"
    }
   },
   "execution_count": 10
  }
 ]
}
